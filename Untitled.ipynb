{
 "cells": [
  {
   "cell_type": "code",
   "execution_count": null,
   "id": "3e84c6e2-6610-4619-acff-bb00de059521",
   "metadata": {},
   "outputs": [],
   "source": [
    "import pandas as pd\n",
    "import matplotlib.pyplot as plt\n",
    "import seaborn as sns"
   ]
  },
  {
   "cell_type": "code",
   "execution_count": null,
   "id": "1b6ae46d-45fd-4832-837d-00e1934f77b8",
   "metadata": {},
   "outputs": [],
   "source": [
    "# Load data\n",
    "df = pd.read_csv(\"online_cars_Sale_Marketplace.csv\")"
   ]
  },
  {
   "cell_type": "markdown",
   "id": "6b5d8a76-50e7-48d9-b2d2-bb499fba30e6",
   "metadata": {},
   "source": [
    "What car features or specs influence the price the most?"
   ]
  },
  {
   "cell_type": "markdown",
   "id": "6f5b2581-c60d-43fe-ac01-bc70913c5f9e",
   "metadata": {},
   "source": [
    "Which attributes (mileage, year, brand, fuel type, etc.) show the strongest correlation with price?"
   ]
  },
  {
   "cell_type": "code",
   "execution_count": null,
   "id": "4ec1885b-19d3-4958-b312-5fec931b3338",
   "metadata": {},
   "outputs": [],
   "source": [
    "df.info()\n",
    "df.describe()\n",
    "df.head(20)"
   ]
  },
  {
   "cell_type": "code",
   "execution_count": null,
   "id": "db2d7291-0486-4403-a3cd-b2bfe5fd1288",
   "metadata": {},
   "outputs": [],
   "source": [
    "df = df.dropna(subset=['price', 'mileage'])\n"
   ]
  },
  {
   "cell_type": "code",
   "execution_count": null,
   "id": "79c0eb86-2356-473f-9b96-476b571e7529",
   "metadata": {},
   "outputs": [],
   "source": [
    "df.columns = df.columns.str.strip().str.lower().str.replace(\" \", \"_\")\n",
    "print(df.columns.tolist())"
   ]
  },
  {
   "cell_type": "code",
   "execution_count": null,
   "id": "4e3cce6f-c382-4e6f-a213-488f0e80a5ca",
   "metadata": {},
   "outputs": [],
   "source": [
    "df = df.dropna(subset=['price', 'mileage'])"
   ]
  },
  {
   "cell_type": "code",
   "execution_count": null,
   "id": "0fb6146c-0d80-474e-9092-616b669567a4",
   "metadata": {},
   "outputs": [],
   "source": [
    "print(df[['make', 'model', 'price', 'mileage']].head(20))"
   ]
  },
  {
   "cell_type": "code",
   "execution_count": null,
   "id": "aff13020-54ab-48e5-8c4d-a123257aa3b5",
   "metadata": {},
   "outputs": [],
   "source": [
    "df['mileage_bucket'] = pd.cut(df['mileage'], bins=[0, 25000, 50000, 100000, 150000, 200000],\n",
    "                              labels=['0-25k', '25k-50k', '50k-100k', '100k-150k', '150k-200k'])"
   ]
  },
  {
   "cell_type": "code",
   "execution_count": null,
   "id": "d5a5b602-c475-4f43-adfa-25e89ebb7fd9",
   "metadata": {},
   "outputs": [],
   "source": [
    "plt.figure(figsize=(10,6))\n",
    "sns.boxplot(x='mileage_bucket', y='price', data=df)\n",
    "plt.title('Car Price by Mileage Bucket')\n",
    "plt.xlabel('Mileage Range')\n",
    "plt.ylabel('Price ($)')\n",
    "plt.xticks(rotation=45)\n",
    "plt.show()"
   ]
  },
  {
   "cell_type": "code",
   "execution_count": null,
   "id": "6e75e1e2-5479-4264-83c7-6be5f5cafc66",
   "metadata": {},
   "outputs": [],
   "source": [
    "top_brands = df['make'].value_counts().nlargest(5).index\n",
    "df_top_brands = df[df['make'].isin(top_brands)]\n",
    "\n",
    "plt.figure(figsize=(12, 6))\n",
    "sns.scatterplot(data=df_top_brands, x='mileage', y='price', hue='make', alpha=0.5)\n",
    "plt.title('Mileage vs Price for Top Car Brands')\n",
    "plt.xlabel('Mileage')\n",
    "plt.ylabel('Price')\n",
    "plt.legend(title='Brand')\n",
    "plt.show()"
   ]
  },
  {
   "cell_type": "code",
   "execution_count": null,
   "id": "eab9cc41-7120-49c0-9b25-803c9f2fcaa4",
   "metadata": {},
   "outputs": [],
   "source": []
  },
  {
   "cell_type": "code",
   "execution_count": null,
   "id": "2935a2ce-8ff5-4471-bfa4-e635aa3ef83b",
   "metadata": {},
   "outputs": [],
   "source": []
  },
  {
   "cell_type": "code",
   "execution_count": null,
   "id": "283fa51f-5b59-42d3-8660-516e69052dca",
   "metadata": {},
   "outputs": [],
   "source": []
  }
 ],
 "metadata": {
  "kernelspec": {
   "display_name": "Python [conda env:Anaconda]",
   "language": "python",
   "name": "conda-env-Anaconda-py"
  },
  "language_info": {
   "codemirror_mode": {
    "name": "ipython",
    "version": 3
   },
   "file_extension": ".py",
   "mimetype": "text/x-python",
   "name": "python",
   "nbconvert_exporter": "python",
   "pygments_lexer": "ipython3",
   "version": "3.12.7"
  }
 },
 "nbformat": 4,
 "nbformat_minor": 5
}
